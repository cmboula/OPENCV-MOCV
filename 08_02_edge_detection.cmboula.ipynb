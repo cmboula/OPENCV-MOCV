{
  "nbformat": 4,
  "nbformat_minor": 0,
  "metadata": {
    "colab": {
      "provenance": [],
      "include_colab_link": true
    },
    "kernelspec": {
      "display_name": "Python 3",
      "language": "python",
      "name": "python3"
    },
    "language_info": {
      "codemirror_mode": {
        "name": "ipython",
        "version": 3
      },
      "file_extension": ".py",
      "mimetype": "text/x-python",
      "name": "python",
      "nbconvert_exporter": "python",
      "pygments_lexer": "ipython3",
      "version": "3.8.5"
    }
  },
  "cells": [
    {
      "cell_type": "markdown",
      "metadata": {
        "id": "view-in-github",
        "colab_type": "text"
      },
      "source": [
        "<a href=\"https://colab.research.google.com/github/cmboula/OPENCV-MOCV/blob/main/08_02_edge_detection.cmboula.ipynb\" target=\"_parent\"><img src=\"https://colab.research.google.com/assets/colab-badge.svg\" alt=\"Open In Colab\"/></a>"
      ]
    },
    {
      "cell_type": "markdown",
      "metadata": {
        "id": "IvHPSqwx9o6i"
      },
      "source": [
        "<h1 style=\"font-size:30px;\">Edge Detection</h1>\n",
        "\n",
        "Edge detection is an image-processing technique used to identify the boundaries (edges) of objects, or regions within an image. Edges are among the most important features associated with images. We come to know of the underlying structure of an image through its edges. Computer vision processing pipelines therefore extensively use edge detection in applications. In this notebook, we will explore how convolution is used to detect edges and will cover the following edge detection methods.\n",
        "\n",
        "* Sobel Edge Detection\n",
        "* Canny Edge Detection\n",
        "\n",
        "<br>\n",
        "<center>\n",
        "<img src=\"https://opencv.org/wp-content/uploads/2021/09/c0-m8-02-feature-image.png\" alt=\"c0-m8-02-feature-image.png\">\n",
        "</center>\n",
        "<br>\n",
        "\n",
        "Edge detection is applied to grayscale images that are also often blurred prior to performing edge detection. Blurring is performed to reduce the noise in the image. In edge detection, numerical derivatives of the pixel intensities are computed, and this typically results in ‘noisy’ edges. In other words, the intensity of neighboring pixels in an image (especially near edges) can fluctuate quite a bit, giving rise to edges that don’t represent the predominant edge structure we are typically looking for. Blurring smooths the intensity variation near the edges, making it easier to identify the edge structure within the image."
      ]
    },
    {
      "cell_type": "code",
      "metadata": {
        "id": "C0lhz3nOD9WU",
        "colab": {
          "base_uri": "https://localhost:8080/"
        },
        "outputId": "4de0162d-d06d-4169-c6ce-47f1b2626fe0"
      },
      "source": [
        "import cv2\n",
        "from matplotlib import pyplot as plt\n",
        "import numpy as np\n",
        "%matplotlib inline\n",
        "plt.rcParams['image.cmap'] = 'gray'\n",
        "\n",
        "if 'google.colab' in str(get_ipython()):\n",
        "    print(\"Downloading Code to Colab Environment\")\n",
        "    !wget https://www.dropbox.com/sh/287dmicr7k30m3q/AADpOe7w4ouuMp2cyA1uNFjva?dl=1 -O module-code.zip -q --show-progress\n",
        "    !unzip -qq module-code.zip\n",
        "else:\n",
        "    pass"
      ],
      "execution_count": 1,
      "outputs": [
        {
          "output_type": "stream",
          "name": "stdout",
          "text": [
            "Downloading Code to Colab Environment\n",
            "module-code.zip     100%[===================>]  30.59M  30.5MB/s    in 1.0s    \n",
            "warning:  stripped absolute path spec from /\n",
            "mapname:  conversion of  failed\n"
          ]
        }
      ]
    },
    {
      "cell_type": "markdown",
      "metadata": {
        "id": "MQNgSNRJISNN"
      },
      "source": [
        "# 1. Sobel Edge Detection using filter2D()\n",
        "\n",
        "Sobel Edge Detection is one of the most widely used algorithms for edge detection. The Sobel Operator detects edges that are marked by sudden changes in pixel intensity. A sudden change in the derivative of intensity function will reveal a change in the pixel intensity as well. With this in mind, we can approximate the derivative, using a 3×3 kernel. We use one kernel to detect sudden changes in pixel intensity in the X direction, and another in the Y direction.\n",
        "\n",
        "* X-direction Kernel : $$\\begin{bmatrix} -1 & 0 & 1 \\\\ -2 & 0 & 2 \\\\ -1 & 0 & 1 \\end{bmatrix}$$\n",
        "\n",
        "* Y-direction Kernel : $$\\begin{bmatrix} 1 & 2 & 1 \\\\ 0 & 0 & 0 \\\\ -1 & -2 & -1 \\end{bmatrix}$$\n",
        "\n",
        "When these kernels are convolved with the original image, you get a ‘Sobel edge image’.\n",
        "\n",
        " * If we use only the Vertical Kernel, the convolution yields a Sobel image, with edges enhanced in the X-direction\n",
        " * Using the Horizontal Kernel yields a Sobel image, with edges enhanced in the Y-direction.\n"
      ]
    },
    {
      "cell_type": "markdown",
      "metadata": {
        "id": "HgoU-0jD9o61"
      },
      "source": [
        "## 1.1 Convolution Example\n",
        "<br>\n",
        "<center>\n",
        "<img src=\"https://opencv.org/wp-content/uploads/2021/09/c0-m8-02-sobel-edge-detection-a.png\" alt=\"c0-m8-02-sobel-edge-detection-a.png\">\n",
        "</center>\n",
        "<br>\n",
        "\n",
        "<center>\n",
        "<img src=\"https://opencv.org/wp-content/uploads/2021/09/c0-m8-02-sobel-edge-detection-b.png\" alt=\"c0-m8-02-sobel-edge-detection-b.png\">\n",
        "</center>\n",
        "<br>"
      ]
    },
    {
      "cell_type": "code",
      "metadata": {
        "scrolled": false,
        "id": "yxIXbdaq9o64",
        "colab": {
          "base_uri": "https://localhost:8080/",
          "height": 933
        },
        "outputId": "da672ceb-b76d-40ad-ccad-1bae02114819"
      },
      "source": [
        "image_8x8 = np.ones((8, 8), dtype = np.uint8)*90\n",
        "image_8x8[1:7,1:4] = 20\n",
        "image_8x8[1:7,4:7] = 150\n",
        "\n",
        "print(image_8x8)\n",
        "# Define the Sobel-X kernel.\n",
        "kernel = np.array([[-1, 0, 1],\n",
        "                   [-2, 0, 2],\n",
        "                   [-1, 0, 1]])\n",
        "\n",
        "# Convolve the image with Sobel-X 3x3 kernel.\n",
        "sobelx_filter2d = cv2.filter2D(src=image_8x8, ddepth=cv2.CV_64F, kernel=kernel, borderType=cv2.BORDER_REPLICATE)\n",
        "\n",
        "\n",
        "\n",
        "# Print the filtered results (intensity gradients)\n",
        "print('')\n",
        "print(sobelx_filter2d)\n",
        "print('')\n",
        "\n",
        "# Example: Map gradients to [0, 255]\n",
        "sobelx_filter2d = sobelx_filter2d - sobelx_filter2d.min()\n",
        "sobelx_filter2d = sobelx_filter2d/sobelx_filter2d.max()\n",
        "sobelx_filter2d = (sobelx_filter2d * 255).astype('uint8')\n",
        "print(sobelx_filter2d)\n",
        "\n",
        "plt.figure(figsize = (12, 10))\n",
        "plt.subplot(121); plt.axis('off'); plt.imshow(image_8x8);       plt.title('Original Image')\n",
        "plt.subplot(122); plt.axis('off'); plt.imshow(sobelx_filter2d); plt.title('Intensity Gradients');"
      ],
      "execution_count": 2,
      "outputs": [
        {
          "output_type": "stream",
          "name": "stdout",
          "text": [
            "[[ 90  90  90  90  90  90  90  90]\n",
            " [ 90  20  20  20 150 150 150  90]\n",
            " [ 90  20  20  20 150 150 150  90]\n",
            " [ 90  20  20  20 150 150 150  90]\n",
            " [ 90  20  20  20 150 150 150  90]\n",
            " [ 90  20  20  20 150 150 150  90]\n",
            " [ 90  20  20  20 150 150 150  90]\n",
            " [ 90  90  90  90  90  90  90  90]]\n",
            "\n",
            "[[ -70.  -70.    0.  130.  130.    0.  -60.  -60.]\n",
            " [-210. -210.    0.  390.  390.    0. -180. -180.]\n",
            " [-280. -280.    0.  520.  520.    0. -240. -240.]\n",
            " [-280. -280.    0.  520.  520.    0. -240. -240.]\n",
            " [-280. -280.    0.  520.  520.    0. -240. -240.]\n",
            " [-280. -280.    0.  520.  520.    0. -240. -240.]\n",
            " [-210. -210.    0.  390.  390.    0. -180. -180.]\n",
            " [ -70.  -70.    0.  130.  130.    0.  -60.  -60.]]\n",
            "\n",
            "[[ 66  66  89 130 130  89  70  70]\n",
            " [ 22  22  89 213 213  89  31  31]\n",
            " [  0   0  89 255 255  89  12  12]\n",
            " [  0   0  89 255 255  89  12  12]\n",
            " [  0   0  89 255 255  89  12  12]\n",
            " [  0   0  89 255 255  89  12  12]\n",
            " [ 22  22  89 213 213  89  31  31]\n",
            " [ 66  66  89 130 130  89  70  70]]\n"
          ]
        },
        {
          "output_type": "display_data",
          "data": {
            "text/plain": [
              "<Figure size 1200x1000 with 2 Axes>"
            ],
            "image/png": "[encoded data removed]"
          },
          "metadata": {}
        }
      ]
    },
    {
      "cell_type": "markdown",
      "metadata": {
        "id": "W71t6pZl9o6-"
      },
      "source": [
        "## 1.2 Detect Vertical Edges using Sobel-X Kernel and filter2D()"
      ]
    },
    {
      "cell_type": "markdown",
      "metadata": {
        "id": "q5K7q_v59o6_"
      },
      "source": [
        "### <font style = \"color:rgb(50,120,229)\">Convert to grayscale</font>"
      ]
    },
    {
      "cell_type": "code",
      "metadata": {
        "id": "GNNRKX0z9o7A",
        "colab": {
          "base_uri": "https://localhost:8080/"
        },
        "outputId": "7c2b66aa-cd96-4e38-b253-fc8f1737c1bf"
      },
      "source": [
        "# Read image.\n",
        "img = cv2.imread('checkerboard_color.png')\n",
        "# Convert to grayscale.\n",
        "img_gray = cv2.cvtColor(img, cv2.COLOR_BGR2GRAY)\n",
        "\n",
        "print(img.shape)\n",
        "\n",
        "plt.figure(figsize = (12, 8))\n",
        "plt.subplot(121); plt.axis('off'); plt.imshow(img[:,:,::-1]); plt.title('Original')\n",
        "plt.subplot(122); plt.axis('off'); plt.imshow(img_gray);      plt.title('Gray Scale');"
      ],
      "execution_count": null,
      "outputs": [
        {
          "output_type": "stream",
          "name": "stdout",
          "text": [
            "(800, 800, 3)\n"
          ]
        }
      ]
    },
    {
      "cell_type": "markdown",
      "metadata": {
        "id": "10xdey7X9o7B"
      },
      "source": [
        "### <font style = \"color:rgb(50,120,229)\">Define a Kernel and Apply Convolution</font>"
      ]
    },
    {
      "cell_type": "code",
      "metadata": {
        "id": "T1-nuiPj9o7C"
      },
      "source": [
        "# Define a Sobel-X kernel.\n",
        "kernel = np.array([[-1, 0, 1],\n",
        "                   [-2, 0, 2],\n",
        "                   [-1, 0, 1]])\n",
        "\n",
        "sobelx = cv2.filter2D(src = img_gray, ddepth = cv2.CV_64F, kernel = kernel)\n",
        "\n",
        "plt.figure(figsize = (20,12))\n",
        "plt.subplot(131); plt.axis('off'); plt.imshow(img[:,:,::-1]); plt.title('Original')\n",
        "plt.subplot(132); plt.axis('off'); plt.imshow(img_gray);      plt.title('Grayscale')\n",
        "plt.subplot(133); plt.axis('off'); plt.imshow(sobelx);        plt.title('Sobel-X Edge Map');"
      ],
      "execution_count": null,
      "outputs": []
    },
    {
      "cell_type": "markdown",
      "metadata": {
        "id": "hSNSsUCr9o7D"
      },
      "source": [
        "# 2. Using Sobel() to Detect Vertical and Horizontal Edges"
      ]
    },
    {
      "cell_type": "markdown",
      "metadata": {
        "id": "Ncs33HKN9o7E"
      },
      "source": [
        "OpenCV has a dedicated function called `Sobel()` that performs Sobel edge detection which is more conveninet that using the more general `filer2D()` function. Let's see how to use `Sobel()`.\n",
        "\n",
        "<hr style=\"border:none; height: 4px; background-color:#D3D3D3\" />\n",
        "\n",
        "### <font style = \"color:rgb(8,133,37)\">Function Syntax</font>\n",
        "\n",
        "```python\n",
        "dst = cv.Sobel(src, ddepth, dx, dy[, dst[, ksize[, scale[, delta[, borderType]]]]])\n",
        "```\n",
        "\n",
        "`dst`: output image of the same size and the same number of channels as src .\n",
        "\n",
        "The function has **4 required arguments**:\n",
        "\n",
        " 1. `src`: input image.\n",
        " 2. `ddepth`: is the depth of the destination image.\n",
        " 3.  `dx`: Horizontal sobel derivative.\n",
        " 4.  `dy`: Vertical sobel derivative.\n",
        "\n",
        "\n",
        "### <font style=\"color:rgb(8,133,37)\">OpenCV Documentation</font>\n",
        "\n",
        "[**`sobel()`**](https://docs.opencv.org/4.5.2/d4/d86/group__imgproc__filter.html#gacea54f142e81b6758cb6f375ce782c8d)\n",
        "\n",
        " <hr style=\"border:none; height: 4px; background-color:#D3D3D3\" />"
      ]
    },
    {
      "cell_type": "markdown",
      "metadata": {
        "id": "syTf0e659o7F"
      },
      "source": [
        "## 2.1 Using Sobel() to Detect Vertical and Horizontal Edges"
      ]
    },
    {
      "cell_type": "code",
      "metadata": {
        "id": "muI754tgKM1F"
      },
      "source": [
        "sobelx  = cv2.Sobel(src = img_gray, ddepth = cv2.CV_64F, dx = 1, dy = 0, ksize = 3)\n",
        "sobely  = cv2.Sobel(src = img_gray, ddepth = cv2.CV_64F, dx = 0, dy = 1, ksize = 3)\n",
        "\n",
        "plt.figure(figsize = (20,12))\n",
        "plt.subplot(141); plt.axis('off'); plt.imshow(img[:,:,::-1]); plt.title('Original')\n",
        "plt.subplot(142); plt.axis('off'); plt.imshow(img_gray);      plt.title('Grayscale')\n",
        "plt.subplot(143); plt.axis('off'); plt.imshow(sobelx);        plt.title('Sobel-X Edge Map')\n",
        "plt.subplot(144); plt.axis('off'); plt.imshow(sobely);        plt.title('Sobel-Y Edge Map');"
      ],
      "execution_count": null,
      "outputs": []
    },
    {
      "cell_type": "markdown",
      "metadata": {
        "id": "G2_1YCT3Q5d8"
      },
      "source": [
        "# 3. Canny Edge Detection\n",
        "\n",
        "Canny Edge Detection is one of the most popular edge-detection methods in use today because it is so robust and flexible. The algorithm itself follows a three-stage process for extracting edges from an image. Blurring is almost always added as a pre-processing step to reduce noise. This makes it a four-stage process, which includes:\n",
        "\n",
        " 0. Pre-processing step: Noise Reduction (blurring)\n",
        " 1. Calculating the intensity gradient of the image (using a Sobel kernel)\n",
        " 2. Non-maximum Suppression\n",
        " 3. Hysteresis thresholding\n",
        "\n",
        " <hr style=\"border:none; height: 4px; background-color:#D3D3D3\" />\n",
        "\n",
        "### <font style = \"color:rgb(8,133,37)\">Function Syntax</font>\n",
        "\n",
        "```python\n",
        "edges = cv.Canny(image, threshold1, threshold2[, edges[, apertureSize[, L2gradient]]])\n",
        "```\n",
        "\n",
        " `edges`:\toutput edge map; single channels 8-bit image, which has the same size as image .\n",
        "\n",
        "The function has **3 required arguments**:\n",
        "\n",
        "1. `src` : Input image.\n",
        "2. `threshold1`: First threshold for the hysteresis procedure.\n",
        "3. `threshold2`: Second threshold for the hysteresis procedure.\n",
        "\n",
        "**NOTE**: The thresholds described above are interchangeable as arguments in the function call. The higher of the two values specified corresponds to the threshold for determining which edges are \"Sure Edges\" and the lower of the two thresholds is used for determining which edges qualify as candidate edges (if they are determined to be connected to a \"Sure Edge\"). What this means is that the order of these two arguments does not matter. In this notebook we will simply refer to `thresold1` as the lower threshold and `threshold2` as the upper (or higher) threshold.\n",
        "\n",
        "<br>\n",
        "<center>\n",
        "<img src=\"https://opencv.org/wp-content/uploads/2021/09/c0-m8-02-canny-thresholds.png\" alt=\"c0-m8-02-canny-thresholds.png\">\n",
        "</center>\n",
        "<br>\n",
        "\n",
        "Edges with intensity gradients greater than the high threshold are considered \"Sure Edges.\" Edges with intensity gardients less than the high threshold, but greater than the low threshold are considered candidate edges. If the candidate edges are connected to a \"Sure Edge\" then they become a valid edge and are included in the final edge map. All other edges whose intensity gradients are less than the high threshold value are discarded.\n",
        "\n",
        "### <font style=\"color:rgb(8,133,37)\">OpenCV Documentation</font>\n",
        "\n",
        "[**`Canny()`**](https://docs.opencv.org/4.5.2/dd/d1a/group__imgproc__feature.html#ga04723e007ed888ddf11d9ba04e2232de)\n",
        "\n",
        "[**`Canny Edge Detection Tutorial`**](https://docs.opencv.org/4.5.2/da/d22/tutorial_py_canny.html)\n",
        "\n",
        " <hr style=\"border:none; height: 4px; background-color:#D3D3D3\" />"
      ]
    },
    {
      "cell_type": "markdown",
      "metadata": {
        "id": "S1Fop9Bc9o7J"
      },
      "source": [
        "## 3.1 Canny Edge Detection (simple example with no texture or noise)"
      ]
    },
    {
      "cell_type": "code",
      "metadata": {
        "id": "aVZjj7haD4dY"
      },
      "source": [
        "img = cv2.imread('coca-cola-logo.png')\n",
        "\n",
        "# Convert to grayscale.\n",
        "img_gray = cv2.cvtColor(img, cv2.COLOR_BGR2GRAY)\n",
        "\n",
        "edges = cv2.Canny(img_gray, threshold1 = 180, threshold2 = 200)\n",
        "\n",
        "plt.figure(figsize = (20,10))\n",
        "plt.subplot(131); plt.axis(\"off\"); plt.imshow(img[:,:,::-1]); plt.title('Original')\n",
        "plt.subplot(132); plt.axis(\"off\"); plt.imshow(img_gray);      plt.title('Grayscale')\n",
        "plt.subplot(133); plt.axis(\"off\"); plt.imshow(edges);         plt.title('Canny Edge Map');"
      ],
      "execution_count": null,
      "outputs": []
    },
    {
      "cell_type": "markdown",
      "metadata": {
        "id": "s7J5GwKz9o7M"
      },
      "source": [
        "## 3.2 Effect of Threshold2\n",
        "\n",
        "The upper threshold (`Threshold2`) determines which edges will be included in the final edge map as \"sure-edges\" (i.e., those edges whoes intensity gradients exceed the value of `Threshold2`)."
      ]
    },
    {
      "cell_type": "code",
      "metadata": {
        "id": "T_LmVfaa9o7M"
      },
      "source": [
        "img = cv2.imread('phone_ipad.jpg')\n",
        "\n",
        "# Convert to grayscale.\n",
        "img_gray = cv2.cvtColor(img, cv2.COLOR_BGR2GRAY)\n",
        "\n",
        "edges1 = cv2.Canny(img_gray, threshold1 = 200, threshold2 = 300)\n",
        "edges2 = cv2.Canny(img_gray, threshold1 = 200, threshold2 = 500)\n",
        "edges3 = cv2.Canny(img_gray, threshold1 = 200, threshold2 = 1000)\n",
        "\n",
        "plt.figure(figsize = (20,12))\n",
        "plt.subplot(221); plt.axis(\"off\"); plt.imshow(img_gray);  plt.title('Grayscale')\n",
        "plt.subplot(222); plt.axis(\"off\"); plt.imshow(edges1);    plt.title('Edges with T2 = 300')\n",
        "plt.subplot(223); plt.axis(\"off\"); plt.imshow(edges2);    plt.title('Edges with T2 = 500')\n",
        "plt.subplot(224); plt.axis(\"off\"); plt.imshow(edges3);    plt.title('Edges with T2 = 1000');"
      ],
      "execution_count": null,
      "outputs": []
    },
    {
      "cell_type": "markdown",
      "metadata": {
        "id": "5A3a3FEJ9o7O"
      },
      "source": [
        "# 4.  Canny Edge Detection (with and without blurring)\n",
        "This section shows the application of image blurring prior to performing edge detection. We will compare edge detection results with and without blurring."
      ]
    },
    {
      "cell_type": "code",
      "metadata": {
        "id": "W33mC9889o7P"
      },
      "source": [
        "# Read image.\n",
        "img1 = cv2.imread('butterfly.jpg')\n",
        "img2 = cv2.imread('Large_Scaled_Forest_Lizard.jpg')\n",
        "\n",
        "# Convert to gray scale.\n",
        "img1_gray = cv2.cvtColor(img1, cv2.COLOR_BGR2GRAY)\n",
        "img2_gray = cv2.cvtColor(img2, cv2.COLOR_BGR2GRAY)"
      ],
      "execution_count": null,
      "outputs": []
    },
    {
      "cell_type": "markdown",
      "metadata": {
        "id": "UVJLuv8_9o7P"
      },
      "source": [
        "## 4.1  Canny Edge Detection without Blurring\n",
        "\n",
        "When edge detection is performed on the original image (without any blurring) the algorithm often produces many edges associated with the texture in the image which are not necessarily associated with the edges we often care about."
      ]
    },
    {
      "cell_type": "code",
      "metadata": {
        "id": "U9poVD129o7Q"
      },
      "source": [
        "# Canny Edge detection without blurring.\n",
        "original_edges_1 = cv2.Canny(img1_gray, threshold1 = 180, threshold2 = 200)\n",
        "original_edges_2 = cv2.Canny(img2_gray, threshold1 = 180, threshold2 = 200)\n",
        "\n",
        "# Display.\n",
        "plt.figure(figsize = (20,15))\n",
        "plt.subplot(221); plt.axis('off'); plt.imshow(img1[:,:,::-1]);   plt.title('Original')\n",
        "plt.subplot(222); plt.axis('off'); plt.imshow(original_edges_1); plt.title('Edges from original')\n",
        "\n",
        "plt.subplot(223); plt.axis('off'); plt.imshow(img2[:,:,::-1]);   plt.title('Original')\n",
        "plt.subplot(224); plt.axis('off'); plt.imshow(original_edges_2); plt.title('Edges from original');"
      ],
      "execution_count": null,
      "outputs": []
    },
    {
      "cell_type": "markdown",
      "metadata": {
        "id": "u0an-Dfd9o7Q"
      },
      "source": [
        "## 4.2  Canny Edge Detection with Blurring\n",
        "\n",
        "We apply blurring to smooth out the fine texture and reduce noise in images so that only the predominant edges are detected in the image.\n",
        "\n",
        "### <font style = \"color:rgb(50,120,229)\">Apply blurring</font>"
      ]
    },
    {
      "cell_type": "code",
      "metadata": {
        "scrolled": false,
        "id": "W-ZDpoxZ9o7R"
      },
      "source": [
        "# Apply Gaussian blur with kernel size 7x7.\n",
        "img1_blur = cv2.GaussianBlur(img1_gray, (7,7), 0)\n",
        "# Apply Gaussian blur with kernel size 7x7 as the noise is more.\n",
        "img2_blur = cv2.GaussianBlur(img2_gray, (7,7), 0)\n",
        "\n",
        "# Display the images.\n",
        "plt.figure(figsize = (20, 10))\n",
        "plt.subplot(231); plt.axis('off'); plt.imshow(img1[:,:,::-1]); plt.title('Original')\n",
        "plt.subplot(232); plt.axis('off'); plt.imshow(img1_gray);      plt.title('Grayscale')\n",
        "plt.subplot(233); plt.axis('off'); plt.imshow(img1_blur);      plt.title('Blurred')\n",
        "plt.subplot(234); plt.axis('off'); plt.imshow(img2[:,:,::-1]); plt.title('Original')\n",
        "plt.subplot(235); plt.axis('off'); plt.imshow(img2_gray);      plt.title('Grayscale')\n",
        "plt.subplot(236); plt.axis('off'); plt.imshow(img2_blur);      plt.title('Blurred');"
      ],
      "execution_count": null,
      "outputs": []
    },
    {
      "cell_type": "markdown",
      "metadata": {
        "id": "fvFsqiP-9o7R"
      },
      "source": [
        "### <font style = \"color:rgb(50,120,229)\">Perform edge detection using blurred images</font>\n",
        "\n",
        "Using the blurred image as input eliminates edges associated with very fine texture or noise in the original image."
      ]
    },
    {
      "cell_type": "code",
      "metadata": {
        "id": "Fp03wm7F9o7R"
      },
      "source": [
        "blurred_edges_1 = cv2.Canny(img1_blur, threshold1 = 180, threshold2 = 200)\n",
        "blurred_edges_2 = cv2.Canny(img2_blur, threshold1 = 180, threshold2 = 200)\n",
        "\n",
        "# Display.\n",
        "plt.figure(figsize = (18,12))\n",
        "plt.subplot(221); plt.axis('off'); plt.imshow(original_edges_1); plt.title('Edges without blur')\n",
        "plt.subplot(222); plt.axis('off'); plt.imshow(blurred_edges_1);  plt.title('Edges with blur')\n",
        "plt.subplot(223); plt.axis('off'); plt.imshow(original_edges_2); plt.title('Edges without blur')\n",
        "plt.subplot(224); plt.axis('off'); plt.imshow(blurred_edges_2);  plt.title('Edges with blur');"
      ],
      "execution_count": null,
      "outputs": []
    },
    {
      "cell_type": "markdown",
      "metadata": {
        "id": "IkwgLdFe9o7S"
      },
      "source": [
        "## 4.3 Hysteresis Thresholding Example (effect of Threshold1)\n",
        "Setting a lower minimum threshold (`threshold1`) allows weaker edges to be included in the final edge map as long as the weaker edge can be associated with a \"sure-edge.\""
      ]
    },
    {
      "cell_type": "code",
      "metadata": {
        "scrolled": true,
        "id": "9kwIrixw9o7T"
      },
      "source": [
        "# Edge detection with a high Threshold1 value.\n",
        "blurred_edges_tight = cv2.Canny(img1_blur, threshold1 = 180, threshold2 = 200)\n",
        "# Edge detection with a low Threshold1 value.\n",
        "blurred_edges_open  = cv2.Canny(img1_blur, threshold1 = 50, threshold2 = 200)\n",
        "\n",
        "plt.figure(figsize = (20,15))\n",
        "plt.subplot(121); plt.axis('off'); plt.imshow(blurred_edges_tight); plt.title('Threshold1 = 180, Threshold2 = 200')\n",
        "plt.subplot(122); plt.axis('off'); plt.imshow(blurred_edges_open);  plt.title('Threshold1 = 50, Threshold2 = 200');"
      ],
      "execution_count": null,
      "outputs": []
    },
    {
      "cell_type": "markdown",
      "metadata": {
        "id": "wFQx3fjN9o7T"
      },
      "source": [
        "As shown in the images above, the edge map associated with a higher Threshold1 value (left) has many \"broken edges.\" When the Threshold1 value is lowered it allows weaker segments that are assocaited with strong edges to become part of the final edge map as shown to the right. In the right-hand image, you can see more continuous edges."
      ]
    }
  ]
}